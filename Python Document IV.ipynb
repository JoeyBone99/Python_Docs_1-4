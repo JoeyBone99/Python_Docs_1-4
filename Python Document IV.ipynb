{
 "cells": [
  {
   "cell_type": "markdown",
   "metadata": {},
   "source": [
    "# Object-Oriented-Programming (OOP)"
   ]
  },
  {
   "cell_type": "markdown",
   "metadata": {},
   "source": [
    "## Tasks Today:\n",
    "\n",
    "   \n",
    "\n",
    "1) <b>Creating a Class (Initializing/Declaring)</b> <br>\n",
    "2) <b>Using a Class (Instantiating)</b> <br>\n",
    " &nbsp;&nbsp;&nbsp;&nbsp; a) Creating One Instance <br>\n",
    " &nbsp;&nbsp;&nbsp;&nbsp; b) Creating Multiple Instances <br>\n",
    " &nbsp;&nbsp;&nbsp;&nbsp; c) In-Class Exercise #1 - Create a Class 'Car' and instantiate three different makes of cars <br>\n",
    "3) <b>The \\__init\\__() Method</b> <br>\n",
    " &nbsp;&nbsp;&nbsp;&nbsp; a) The 'self' Attribute <br>\n",
    "4) <b>Class Attributes</b> <br>\n",
    " &nbsp;&nbsp;&nbsp;&nbsp; a) Initializing Attributes <br>\n",
    " &nbsp;&nbsp;&nbsp;&nbsp; b) Setting an Attribute Outside of the \\__init\\__() Method <br>\n",
    " &nbsp;&nbsp;&nbsp;&nbsp; c) Setting Defaults for Attributes <br>\n",
    " &nbsp;&nbsp;&nbsp;&nbsp; d) Accessing Class Attributes <br>\n",
    " &nbsp;&nbsp;&nbsp;&nbsp; e) Changing Class Attributes <br>\n",
    " &nbsp;&nbsp;&nbsp;&nbsp; f) In-Class Exercise #2 - Add a color and wheels attribute to your 'Car' class <br>\n",
    "5) <b>Class Methods</b> <br>\n",
    " &nbsp;&nbsp;&nbsp;&nbsp; a) Creating <br>\n",
    " &nbsp;&nbsp;&nbsp;&nbsp; b) Calling <br>\n",
    " &nbsp;&nbsp;&nbsp;&nbsp; c) Modifying an Attribute's Value Through a Method <br>\n",
    " &nbsp;&nbsp;&nbsp;&nbsp; d) Incrementing an Attribute's Value Through a Method <br>\n",
    " &nbsp;&nbsp;&nbsp;&nbsp; e) In-Class Exercise #3 - Add a method that prints the cars color and wheel number, then call them <br>\n",
    "6) <b>Inheritance</b> <br>\n",
    " &nbsp;&nbsp;&nbsp;&nbsp; a) Syntax for Inheriting from a Parent Class <br>\n",
    " &nbsp;&nbsp;&nbsp;&nbsp; b) The \\__init\\__() Method for a Child Class (super()) <br>\n",
    " &nbsp;&nbsp;&nbsp;&nbsp; c) Defining Attributes and Methods for the Child Class <br>\n",
    " &nbsp;&nbsp;&nbsp;&nbsp; d) Method Overriding <br>\n",
    " &nbsp;&nbsp;&nbsp;&nbsp; e) In-Class Exercise #4 - Create a class 'Ford' that inherits from 'Car' class and initialize it as a Blue Ford Explorer with 4 wheels using the super() method <br>\n",
    "7) <b>Classes as Attributes</b> <br>\n",
    "8) <b>Exercises</b> <br>\n",
    " &nbsp;&nbsp;&nbsp;&nbsp; a) Exercise #1 - Turn the shopping cart program from yesterday into an object-oriented program <br>"
   ]
  },
  {
   "cell_type": "markdown",
   "metadata": {},
   "source": [
    "## Creating a Class (Initializing/Declaring)\n",
    "<p>When creating a class, function, or even a variable you are initializing that object. Initializing and Declaring occur at the same time in Python, whereas in lower level languages you have to declare an object before initializing it. This is the first step in the process of using a class.</p>"
   ]
  },
  {
   "cell_type": "code",
   "execution_count": 8,
   "metadata": {},
   "outputs": [],
   "source": [
    "class Car():\n",
    "    wheels = 4\n",
    "    color = 'blue'\n",
    "    windshield_wipers = 'we woo we woo we woo'"
   ]
  },
  {
   "cell_type": "markdown",
   "metadata": {},
   "source": [
    "## Using a Class (Instantiating)\n",
    "<p>The process of creating a class is called <i>Instantiating</i>. Each time you create a variable of that type of class, it is referred to as an <i>Instance</i> of that class. This is the second step in the process of using a class.</p>"
   ]
  },
  {
   "cell_type": "markdown",
   "metadata": {},
   "source": [
    "##### Creating One Instance"
   ]
  },
  {
   "cell_type": "code",
   "execution_count": 9,
   "metadata": {},
   "outputs": [
    {
     "name": "stdout",
     "output_type": "stream",
     "text": [
      "we woo we woo we woo\n"
     ]
    }
   ],
   "source": [
    "ford = Carr()\n",
    "\n",
    "print(ford.windshield_wipers)"
   ]
  },
  {
   "cell_type": "markdown",
   "metadata": {},
   "source": [
    "##### Creating Multiple Instances"
   ]
  },
  {
   "cell_type": "code",
   "execution_count": 10,
   "metadata": {},
   "outputs": [],
   "source": [
    "chevrolet = Carr()\n",
    "honda = Carr()\n",
    "porsche = Carr()"
   ]
  },
  {
   "cell_type": "markdown",
   "metadata": {},
   "source": [
    "##### In-Class Exercise #1 - Create a Class 'Car' and Instantiate three different makes of cars"
   ]
  },
  {
   "cell_type": "code",
   "execution_count": 21,
   "metadata": {},
   "outputs": [
    {
     "name": "stdout",
     "output_type": "stream",
     "text": [
      "Manual Trans, Manual Door Locks red\n",
      "\n",
      "\n",
      "6 6 Sun Roof, Spoiler, Magna-Flow-exhaust\n",
      "\n",
      "\n",
      "red 6 6 Sun Roof, Spoiler, Magna-Flow-exhaust\n"
     ]
    }
   ],
   "source": [
    "class Car():\n",
    "    doors = 6\n",
    "    color = 'red'\n",
    "    wheels = 6\n",
    "    rs_trim = 'Sun Roof, Spoiler, Magna-Flow-exhaust'\n",
    "    trim_standard = 'Manual Trans, Manual Door Locks'\n",
    "\n",
    "Dodge = Car()\n",
    "\n",
    "print(Dodge.trim_standard, Dodge.color)\n",
    "\n",
    "print('\\n')\n",
    "\n",
    "Ford = Car()\n",
    "\n",
    "print(Ford.doors, Ford.wheels, Ford.rs_trim)\n",
    "\n",
    "print('\\n')\n",
    "\n",
    "Tesla = Car()\n",
    "\n",
    "print(Tesla.color, Tesla.doors, Tesla.wheels, Tesla.rs_trim)\n",
    "\n"
   ]
  },
  {
   "cell_type": "markdown",
   "metadata": {},
   "source": [
    "## The \\__init\\__() Method <br>\n",
    "<p>This method is used in almost every created class, and called only once upon the creation of the class instance. This method will initialize all variables needed for the object.</p>"
   ]
  },
  {
   "cell_type": "code",
   "execution_count": 25,
   "metadata": {},
   "outputs": [
    {
     "name": "stdout",
     "output_type": "stream",
     "text": [
      "black\n",
      "blue\n",
      "4\n",
      "6\n"
     ]
    }
   ],
   "source": [
    "class Car():\n",
    "    engine = '4.7L' # Global within class - any method inside the class can call upon this variable\n",
    "    \n",
    "    def __init__ (self, color, wheels):\n",
    "        self.color = color\n",
    "        self.wheels = wheels\n",
    "        \n",
    "mazda = Car('black', 4)\n",
    "subaru = Car('blue', 6)\n",
    "\n",
    "print(mazda.color)\n",
    "print(subaru.color)\n",
    "print(mazda.wheels)\n",
    "print(subaru.wheels)\n"
   ]
  },
  {
   "cell_type": "markdown",
   "metadata": {},
   "source": [
    "##### The 'self' Attribute <br>\n",
    "<p>This attribute is required to keep track of specific instance's attributes. Without the self attribute, the program would not know how to reference or keep track of an instance's attributes.</p>"
   ]
  },
  {
   "cell_type": "code",
   "execution_count": 28,
   "metadata": {},
   "outputs": [
    {
     "name": "stdout",
     "output_type": "stream",
     "text": [
      "4\n",
      "1\n",
      "1\n"
     ]
    }
   ],
   "source": [
    "# see above\n",
    "\n"
   ]
  },
  {
   "cell_type": "code",
   "execution_count": 2,
   "metadata": {},
   "outputs": [
    {
     "name": "stdout",
     "output_type": "stream",
     "text": [
      "no\n"
     ]
    },
    {
     "data": {
      "text/plain": [
       "'Why on earth would you not want a rock climbing wall in your house!'"
      ]
     },
     "execution_count": 2,
     "metadata": {},
     "output_type": "execute_result"
    }
   ],
   "source": [
    "class House():\n",
    "    def __init__(self, dishes, wall):\n",
    "        self.dishes = dishes\n",
    "        self.wall = wall\n",
    "    \n",
    "    def washDishes(self):\n",
    "        if self.dishes.lower() == 'dirty':\n",
    "            print(self.wall)\n",
    "        else:\n",
    "            'Wash them dishes PLEASE and THANK YOU!'\n",
    "            \n",
    "    def rockClimbingWall(self):\n",
    "        if self.wall.lower() == 'yes':\n",
    "            return 'Rock on climber!'\n",
    "        else:\n",
    "            return 'Why on earth would you not want a rock climbing wall in your house!'\n",
    "brandon_house = House('dirty', 'no')\n",
    "brandon_house.washDishes()\n",
    "brandon_house.rockClimbingWall()\n",
    "    \n",
    "    "
   ]
  },
  {
   "cell_type": "markdown",
   "metadata": {},
   "source": [
    "## Class Attributes <br>\n",
    "<p>While variables are inside of a class, they are referred to as attributes and not variables. When someone says 'attribute' you know they're speaking about a class. Attributes can be initialized through the init method, or outside of it.</p>"
   ]
  },
  {
   "cell_type": "markdown",
   "metadata": {},
   "source": [
    "##### Initializing Attributes"
   ]
  },
  {
   "cell_type": "code",
   "execution_count": 21,
   "metadata": {},
   "outputs": [
    {
     "name": "stdout",
     "output_type": "stream",
     "text": [
      "1 1\n",
      "1\n",
      "1\n"
     ]
    }
   ],
   "source": [
    "# see above\n",
    "\n",
    "class Toy():\n",
    "    kind = 'car' # This is called a constant\n",
    "    \n",
    "    def __init__ (self, rooftop, horn, wheels):\n",
    "        self.rooftop = rooftop # These are attributes\n",
    "        self.horn = horn\n",
    "        self.wheels = wheels\n",
    "\n",
    "hot_wheels = Toy (1, 1, 4)\n",
    "tonka_truck = Toy(1, 1, 4) # 1 rooftop, 1 horn, 4 wheels\n",
    "print(tonka_truck.rooftop, hot_wheels.horn)\n",
    "print(tonka_truck.rooftop)\n",
    "print(tonka_truck.horn)"
   ]
  },
  {
   "cell_type": "markdown",
   "metadata": {},
   "source": [
    "##### Accessing Class Attributes"
   ]
  },
  {
   "cell_type": "code",
   "execution_count": null,
   "metadata": {
    "scrolled": true
   },
   "outputs": [],
   "source": [
    "# See Above\n",
    "\n",
    "tonka_truck.rooftop\n",
    "hotwheels_car.wheels"
   ]
  },
  {
   "cell_type": "markdown",
   "metadata": {},
   "source": [
    "##### Setting Defaults for Attributes"
   ]
  },
  {
   "cell_type": "code",
   "execution_count": 56,
   "metadata": {},
   "outputs": [
    {
     "name": "stdout",
     "output_type": "stream",
     "text": [
      "Blue\n",
      "4\n",
      "6\n"
     ]
    }
   ],
   "source": [
    "# class Car():\n",
    "#     engine = '4.7L'\n",
    "    \n",
    "#     def __init__(self, wheels, doors, seats):\n",
    "#         self.wheels = wheels\n",
    "#         self.color = 'Blue'\n",
    "#         self.doors = doors\n",
    "#         self.seats = seats        \n",
    "\n",
    "# honda = Car(4, 4, 4)\n",
    "\n",
    "# chevy = Car(5, 6, 6)\n",
    "# print(chevy.seats)\n",
    "\n",
    "\n",
    "        \n",
    "        \n"
   ]
  },
  {
   "cell_type": "markdown",
   "metadata": {},
   "source": [
    "##### Changing Class Attributes <br>\n",
    "<p>Keep in mind there are global class attributes and then there are attributes only available to each class instance which won't effect other classes.</p>"
   ]
  },
  {
   "cell_type": "code",
   "execution_count": 39,
   "metadata": {},
   "outputs": [
    {
     "name": "stdout",
     "output_type": "stream",
     "text": [
      "Before change: Blue\n",
      "\n",
      "After Change: white\n",
      "\n",
      "\n",
      "Blue\n"
     ]
    }
   ],
   "source": [
    "jeep = Car(8)\n",
    "\n",
    "print(f'Before change: {jeep.color}')\n",
    "\n",
    "jeep.color = 'white'\n",
    "\n",
    "print(f'\\nAfter Change: {jeep.color}')\n",
    "print('\\n')\n",
    "print(honda.color)"
   ]
  },
  {
   "cell_type": "code",
   "execution_count": null,
   "metadata": {},
   "outputs": [],
   "source": []
  },
  {
   "cell_type": "markdown",
   "metadata": {},
   "source": [
    "##### In-Class Exercise #2 - Add a doors and seats attribute to your 'Car' class then print out two different instances with different doors and seats"
   ]
  },
  {
   "cell_type": "code",
   "execution_count": 2,
   "metadata": {},
   "outputs": [
    {
     "name": "stdout",
     "output_type": "stream",
     "text": [
      "honda doors 4 honda seats: 4.\n",
      "Chevy seats: 6 and chevy doors: 6.\n"
     ]
    }
   ],
   "source": [
    "# class Car():\n",
    "#     engine = '4.7L'\n",
    "    \n",
    "#     def __init__(self, wheels, doors, seats):\n",
    "#         self.wheels = wheels\n",
    "#         self.color = 'Blue'\n",
    "#         self.doors = doors\n",
    "#         self.seats = seats        \n",
    "\n",
    "# honda = Car(4, 4, 4)\n",
    "# print(f'honda doors {honda.doors} honda seats: {honda.seats}.')\n",
    "\n",
    "# chevy = Car(5, 6, 6)\n",
    "# print(f'Chevy seats: {chevy.seats} and chevy doors: {chevy.doors}.')\n"
   ]
  },
  {
   "cell_type": "markdown",
   "metadata": {},
   "source": [
    "## Class Methods <br>\n",
    "<p>While inside of a class, functions are referred to as 'methods'. If you hear someone mention methods, they're speaking about classes. Methods are essentially functions, but only callable on the instances of a class.</p>"
   ]
  },
  {
   "cell_type": "markdown",
   "metadata": {},
   "source": [
    "##### Creating"
   ]
  },
  {
   "cell_type": "code",
   "execution_count": 2,
   "metadata": {},
   "outputs": [],
   "source": [
    "class shoppingBag():\n",
    "    \"\"\"\n",
    "    The shoppingBag class will have handles capacity,\n",
    "    and items to place inside.\n",
    "    \n",
    "    Attributes for the class:\n",
    "    - handles: expected to be an itneger\n",
    "    - capacity: expected to be a string or ingteger\n",
    "    - items: expected to be a list\n",
    "    \"\"\"\n",
    "    \n",
    "    \n",
    "    def __init__(self, handles, capacity, items):\n",
    "        self.handles = handles\n",
    "        self.capacity = capacity\n",
    "        self.items = items\n",
    "        \n",
    "    # Write a METHOD/FUNCTION that shows the items in our shoppingBag / this is our items list\n",
    "    def showShoppingBag(self):\n",
    "        \n",
    "        for item in self.items:\n",
    "            print(item)\n",
    "        \n",
    "            \n",
    "    # Show the capacity of shoppinBag - how much room is left\n",
    "    def showCapacity(self):\n",
    "        print(f'Your capacity is: {self.capacity}')\n",
    "        \n",
    "    # Add items(s) to the items list for the shoppingBag\n",
    "    def addToShoppingBag(self):\n",
    "        products = input('What would you like to add? ')\n",
    "        if not products:\n",
    "            print('No items added...')\n",
    "        else:\n",
    "            self.items.append(products)\n",
    "        \n",
    "    # Change the capacity of the shoppingBag\n",
    "    def changeBagCapacity(self, capacity):\n",
    "        self.capacity = capacity\n",
    "        \n",
    "    # Increase the capacity of the shoppingBag by a default amount that is 10\n",
    "    def increaseCapacity(self, changed_capacity = 10):\n",
    "        if self.capacity == isinstance(self.capacity, str):\n",
    "            print('We can\\'t add that here...')\n",
    "        else:\n",
    "            self.capacity += changed_capacity\n",
    "    \n",
    "    \n",
    "    "
   ]
  },
  {
   "cell_type": "markdown",
   "metadata": {},
   "source": [
    "##### Calling"
   ]
  },
  {
   "cell_type": "code",
   "execution_count": null,
   "metadata": {},
   "outputs": [],
   "source": [
    "from IPython.display import clear_output\n",
    "# See Above\n",
    "# So far we cereated the idea of the shopping bag: now we will actually instantiate and MAKE one, and use it!\n",
    "wholeFoods_bag = shoppingBag(2, 10, [])\n",
    "\n",
    "# Create a function to run the ShoppingBag methods on out wholeFoods_bag instance\n",
    "def run():\n",
    "    while True:\n",
    "        response = input('What do you want to do? add/show/quit ')\n",
    "        \n",
    "        if response.lower() == 'quit':\n",
    "            wholeFoods_bag.showShoppingBag()\n",
    "            print('Thanks for shopping')\n",
    "            break\n",
    "            clear_output()\n",
    "            \n",
    "            \n",
    "        elif response.lower() == 'add':\n",
    "            wholeFoods_bag.addToShoppingBag()\n",
    "        elif response.lower() == 'show':\n",
    "            wholeFoods_bag.showShoppingBag()\n",
    "        else:\n",
    "            print('Try another command')\n",
    "run()"
   ]
  },
  {
   "cell_type": "markdown",
   "metadata": {},
   "source": [
    "##### Modifying an Attribute's Value Through a Method"
   ]
  },
  {
   "cell_type": "code",
   "execution_count": 28,
   "metadata": {},
   "outputs": [
    {
     "name": "stdout",
     "output_type": "stream",
     "text": [
      "Your capacity is: 10\n",
      "Capacity after the change...\n",
      "Your capacity is: 40\n"
     ]
    }
   ],
   "source": [
    "# show the capacity\n",
    "wholeFoods_bag.showCapacity()\n",
    "print('Capacity after the change...')\n",
    "wholeFoods_bag.changeBagCapacity(40)\n",
    "wholeFoods_bag.showCapacity()"
   ]
  },
  {
   "cell_type": "markdown",
   "metadata": {},
   "source": [
    "##### Incrementing an Attribute's Value Through a Method"
   ]
  },
  {
   "cell_type": "code",
   "execution_count": 29,
   "metadata": {},
   "outputs": [
    {
     "name": "stdout",
     "output_type": "stream",
     "text": [
      "Your capacity is: 40\n",
      "After increase:\n",
      "Your capacity is: 50\n"
     ]
    }
   ],
   "source": [
    "wholeFoods_bag.showCapacity()\n",
    "print('After increase:')\n",
    "wholeFoods_bag.increaseCapacity()\n",
    "wholeFoods_bag.showCapacity()"
   ]
  },
  {
   "cell_type": "markdown",
   "metadata": {},
   "source": [
    "##### In-Class Exercise #3 - Add a method that takes in three parameters of year, doors and seats and prints out a formatted print statement with make, model, year, seats, and doors"
   ]
  },
  {
   "cell_type": "code",
   "execution_count": 20,
   "metadata": {},
   "outputs": [
    {
     "name": "stdout",
     "output_type": "stream",
     "text": [
      "This car is from 2019, it's a Ford Explorer and has 4 and 4 seats.\n"
     ]
    }
   ],
   "source": [
    "# Create class with 2 paramters inside of the __init__ which are make and model\n",
    "\n",
    "# Inside of the Car class create a method that has 4 parameters year, doors and total (self,year,door,seats)\n",
    "\n",
    "# Output: This car is from 2019 and is a Ford Expolorer and has 4 doors and 5 seats\n",
    "class Cars():\n",
    "    def __init__(self, make, model, year, doors, seats ):\n",
    "        self.make = make\n",
    "        self.model = model\n",
    "        self.year = year\n",
    "        self.doors = doors\n",
    "        self.seats = seats\n",
    "        \n",
    "\n",
    "        \n",
    "    def full_title(self):\n",
    "        formatted = (f'This car is from {self.year}, it\\'s a {self.make} {self.model} and has {self.doors} and {self.seats} seats.')\n",
    "        return formatted\n",
    "\n",
    "    \n",
    "actual_car = Cars('Ford', 'Explorer', 2019, 4, 4)\n",
    "print(actual_car.full_title())    \n",
    "        \n",
    "\n",
    "        \n",
    "    \n",
    "    \n"
   ]
  },
  {
   "cell_type": "markdown",
   "metadata": {},
   "source": [
    "## Inheritance <br>\n",
    "<p>You can create a child-parent relationship between two classes by using inheritance. What this allows you to do is have overriding methods, but also inherit traits from the parent class. Think of it as an actual parent and child, the child will inherit the parent's genes, as will the classes in OOP</p>"
   ]
  },
  {
   "cell_type": "markdown",
   "metadata": {},
   "source": [
    "##### Syntax for Inheriting from a Parent Class"
   ]
  },
  {
   "cell_type": "code",
   "execution_count": 12,
   "metadata": {},
   "outputs": [
    {
     "name": "stdout",
     "output_type": "stream",
     "text": [
      "BARK\n",
      "Make some generic sound\n",
      "None\n",
      "15\n"
     ]
    }
   ],
   "source": [
    "# Create a parent class and call it Animal...\n",
    "class Animal():\n",
    "    acceleration = 9.8\n",
    "    \n",
    "    def __init__(self, name, species, legs = 4):\n",
    "        self.name = name\n",
    "        self.species = species\n",
    "        self.legs = legs\n",
    "    \n",
    "    # Generic parent Method - This isn't overrinding anything\n",
    "    def makeSound(self):\n",
    "        print(\"Make some generic sound\")\n",
    "        \n",
    "# Now we are making our child class... Dog\n",
    "class Dog(Animal):\n",
    "    speed = 15\n",
    "    \n",
    "    def printInfo(self):\n",
    "        print(f\"The Dog has {self.speed}mph in speed and {self.acceleration}.\")\n",
    "\n",
    "# Creation of a Grand-Child-Class -- Mutt\n",
    "class Mutt(Dog):\n",
    "    color = \"Tan\"\n",
    "    \n",
    "    # Override the Animal class - using the Dog class to overwrite the __init__ from Animal\n",
    "    def __init__(self, name, species, eye_color, legs = 4):\n",
    "        Dog.__init__(self, name, species, legs)\n",
    "        self.eye_color = eye_color\n",
    "    \n",
    "    # Override the makeSound method (which is coming form... Animal)\n",
    "    def makeSound(self):\n",
    "        noise = \"BARK\"\n",
    "        return noise\n",
    "    \n",
    "    \n",
    "lassie = Dog('Lassie', 'Dog')\n",
    "basic_animal = Animal('Generic Animal Name', 'Generic Animal Species' )\n",
    "buster = Mutt('Buster', 'Mutt', 'Brown')\n",
    "\n",
    "print(buster.makeSound())\n",
    "print(lassie.makeSound())\n",
    "print(buster.speed)"
   ]
  },
  {
   "cell_type": "markdown",
   "metadata": {},
   "source": [
    "##### The \\__init\\__() Method for a Child Class - super()"
   ]
  },
  {
   "cell_type": "code",
   "execution_count": 13,
   "metadata": {
    "scrolled": true
   },
   "outputs": [
    {
     "name": "stdout",
     "output_type": "stream",
     "text": [
      "BARK\n",
      "Make some generic sound\n",
      "None\n",
      "15\n"
     ]
    }
   ],
   "source": [
    "class Puppy(Dog):\n",
    "    color = 'Black and Brown'\n",
    "    \n",
    "    # Override the animal class __init__ (via Dog class)\n",
    "    def __init__(self, name, species, eye_color, legs = 4):\n",
    "        super().__init__(name, species, legs)\n",
    "        self.eye_color = eye_color\n",
    "        \n",
    "    # Override the maeksound method\n",
    "    def makeSound(self):\n",
    "        noise = \"BARK\"\n",
    "        return noise\n",
    "    \n",
    "lassie = Dog('Lassie', 'Dog')\n",
    "basic_animal = Animal('Generic Animal Name', 'Generic Animal Species' )\n",
    "buster = Mutt('Buster', 'Mutt', 'Brown')\n",
    "\n",
    "print(buster.makeSound())\n",
    "print(lassie.makeSound())\n",
    "print(buster.speed)"
   ]
  },
  {
   "cell_type": "markdown",
   "metadata": {},
   "source": [
    "##### Defining Attributes and Methods for the Child Class"
   ]
  },
  {
   "cell_type": "code",
   "execution_count": null,
   "metadata": {},
   "outputs": [],
   "source": [
    "# See Above"
   ]
  },
  {
   "cell_type": "markdown",
   "metadata": {},
   "source": [
    "##### Method Overriding"
   ]
  },
  {
   "cell_type": "code",
   "execution_count": null,
   "metadata": {},
   "outputs": [],
   "source": [
    "# See Above"
   ]
  },
  {
   "cell_type": "markdown",
   "metadata": {},
   "source": [
    "## Classes as Attributes <br>\n",
    "<p>Classes can also be used as attributes within another class. This is useful in situations where you need to keep variables locally stored, instead of globally stored.</p>"
   ]
  },
  {
   "cell_type": "code",
   "execution_count": 15,
   "metadata": {},
   "outputs": [
    {
     "name": "stdout",
     "output_type": "stream",
     "text": [
      "20\n"
     ]
    },
    {
     "data": {
      "text/plain": [
       "'2019 Tesla Model X 20'"
      ]
     },
     "execution_count": 15,
     "metadata": {},
     "output_type": "execute_result"
    }
   ],
   "source": [
    "class Battery():\n",
    "    volts = 7.8\n",
    "    \n",
    "    def __init__(self, cells):\n",
    "        self.cells = cells\n",
    "        \n",
    "class Car():\n",
    "    def __init__(self, year, make, model, battery):\n",
    "        self.year = year\n",
    "        self.make = make\n",
    "        self.model = model\n",
    "        self.battery = battery\n",
    "        \n",
    "    def printInfo(self):\n",
    "        return f'{self.year} {self.make} {self.model} {self.battery.cells}'\n",
    "        \n",
    "my_battery = Battery(20)\n",
    "\n",
    "tesla = Car(2019, 'Tesla', 'Model X', my_battery)\n",
    "print(tesla.battery.cells)\n",
    "tesla.printInfo()"
   ]
  },
  {
   "cell_type": "markdown",
   "metadata": {},
   "source": [
    "# Exercises"
   ]
  },
  {
   "cell_type": "markdown",
   "metadata": {},
   "source": [
    "### Exercise 1 - Turn the shopping cart program from yesterday into an object-oriented program\n",
    "\n",
    "The comments in the cell below are there as a guide for thinking about the problem. However, if you feel a different way is best for you and your own thought process, please do what feels best for you by all means."
   ]
  },
  {
   "cell_type": "code",
   "execution_count": 2,
   "metadata": {},
   "outputs": [
    {
     "name": "stdout",
     "output_type": "stream",
     "text": [
      "What would you like to do? add / remove / show / checkout / quit add\n",
      "\n",
      "\n",
      "What would you like to add? Select from our list of Availabe Items:\n",
      " \n",
      "['Yogurt', 'Hummus', 'Bananas', 'Strawberries', 'Crackers', 'Veggie Pack', 'Shaving Cream', 'Razors', 'Deodorant'] veggie pack\n",
      "Veggie Pack added...\n",
      "What would you like to do? add / remove / show / checkout / quit q\n",
      "\n",
      "\n",
      "What would you like to do? add / remove / show / checkout / quit show\n",
      "\n",
      "\n",
      "Veggie Pack\n",
      "What would you like to do? add / remove / show / checkout / quit add\n",
      "\n",
      "\n",
      "What would you like to add? Select from our list of Availabe Items:\n",
      " \n",
      "['Yogurt', 'Hummus', 'Bananas', 'Strawberries', 'Crackers', 'Veggie Pack', 'Shaving Cream', 'Razors', 'Deodorant'] shave\n",
      "shave Invalid Selection...\n",
      "\n",
      "\n",
      "Please select from our available items:\"\n",
      "\"['Yogurt', 'Hummus', 'Bananas', 'Strawberries', 'Crackers', 'Veggie Pack', 'Shaving Cream', 'Razors', 'Deodorant']\n",
      "What would you like to do? add / remove / show / checkout / quit add\n",
      "\n",
      "\n",
      "What would you like to add? Select from our list of Availabe Items:\n",
      " \n",
      "['Yogurt', 'Hummus', 'Bananas', 'Strawberries', 'Crackers', 'Veggie Pack', 'Shaving Cream', 'Razors', 'Deodorant'] shaving cream\n",
      "Shaving Cream added...\n",
      "What would you like to do? add / remove / show / checkout / quit show\n",
      "\n",
      "\n",
      "Veggie Pack\n",
      "Shaving Cream\n",
      "What would you like to do? add / remove / show / checkout / quit checkout\n",
      "\n",
      "\n",
      "Thanks for purchasing ['Veggie Pack', 'Shaving Cream']: \n",
      " \n",
      " see you next time!\n",
      "What would you like to do? add / remove / show / checkout / quit quit\n",
      "\n",
      "\n",
      "Thank you! We hope you find what you're looking for next time\n"
     ]
    }
   ],
   "source": [
    "# Create a class called cart that retains items and has methods to add, remove, and show\n",
    "from IPython.display import clear_output\n",
    "\n",
    "class Cart():\n",
    "\n",
    "    def __init__(self, my_cart, addItem, addItem2):\n",
    "        self.my_cart = my_cart\n",
    "        self.addItem = addItem\n",
    "        self.addItem2 = addItem2\n",
    "    \n",
    "       \n",
    "    def show(self):\n",
    "        for self.addItem in self.my_cart:           \n",
    "            print(self.addItem)\n",
    "\n",
    "    def addItem1(self):\n",
    "        self.addItem = input(f'What would you like to add? Select from our list of Availabe Items:\\n \\n{available_items} ')\n",
    "            \n",
    "\n",
    "        if self.addItem.title() not in available_items:\n",
    "            print(f'{self.addItem.lower()} Invalid Selection...')\n",
    "            print(\"\\n\")\n",
    "            print(f'Please select from our available items:\"\\n\"{available_items}')\n",
    "\n",
    "        else:\n",
    "            print(f'{self.addItem.title()} added...')\n",
    "            self.my_cart.append(self.addItem.title())\n",
    "        \n",
    "\n",
    "    def removeItem(self):\n",
    "        addItem2 = input(f'What item would you like to remove: {self.my_cart} ')\n",
    "        if addItem2.title() not in available_items:\n",
    "                print(f'{addItem2} Not in your cart...')\n",
    "\n",
    "        else:\n",
    "            self.my_cart.remove(addItem2.title())\n",
    "            print(f'{addItem2} Removed...')\n",
    "\n",
    "    def checkout(self):\n",
    "        for self.addItem in self.my_cart:\n",
    "            \n",
    "            print(f\"Thanks for purchasing {self.my_cart}: \\n \\n see you next time!\")\n",
    "            return self.my_cart\n",
    "            \n",
    "        \n",
    "onlineCart = Cart([], addItem= \"\",  addItem2= \"\")\n",
    "available_items = ['Yogurt', 'Hummus', 'Bananas', 'Strawberries', 'Crackers', 'Veggie Pack', 'Shaving Cream', 'Razors', 'Deodorant' ] \n",
    "\n",
    "    \n",
    "def customerDecision():\n",
    "    while True: \n",
    "        customerResponse = input(\"What would you like to do? add / remove / show / checkout / quit \")\n",
    "        print(\"\\n\")\n",
    "\n",
    "        if customerResponse.lower() == \"add\":\n",
    "            onlineCart.addItem1()\n",
    "        \n",
    "        elif customerResponse.lower() == \"show\":\n",
    "            onlineCart.show()\n",
    "\n",
    "        elif customerResponse.lower() == \"remove\":\n",
    "            onlineCart.removeItem()\n",
    "            \n",
    "        elif customerResponse.lower() == \"quit\":\n",
    "            print(\"Thank you! We hope you find what you're looking for next time\")\n",
    "            break\n",
    "            clear_output()\n",
    "\n",
    "        elif customerResponse.lower() == \"checkout\":\n",
    "            onlineCart.checkout()\n",
    "        \n",
    "\n",
    "customerDecision()\n",
    "    "
   ]
  },
  {
   "cell_type": "markdown",
   "metadata": {},
   "source": [
    "### Exercise 2 - Write a Python class which has two methods get_String and print_String. get_String accept a string from the user and print_String print the string in upper case"
   ]
  },
  {
   "cell_type": "code",
   "execution_count": null,
   "metadata": {},
   "outputs": [],
   "source": [
    "class String:\n",
    "    def __init__ (self,getAnswer,printAnswer):\n",
    "        self.getAnswer = getAnswer\n",
    "        self.printAnswer = printAnswer\n",
    "\n",
    "    def get_string(self):\n",
    "        self.getAnswer = input(\"Give me a phrase to repeat! \")\n",
    "\n",
    "\n",
    "    def print_string(self):\n",
    "        self.printAnswer = print(f'You sure you want me to repeat {self.getAnswer.upper()}!?!')\n",
    "        return self.getAnswer.upper()\n",
    "\n",
    "final_string = String(\"\", \"\")\n",
    "print(final_string.get_string())\n",
    "print(final_string.print_string())\n"
   ]
  }
 ],
 "metadata": {
  "kernelspec": {
   "display_name": "Python 3 (ipykernel)",
   "language": "python",
   "name": "python3"
  },
  "language_info": {
   "codemirror_mode": {
    "name": "ipython",
    "version": 3
   },
   "file_extension": ".py",
   "mimetype": "text/x-python",
   "name": "python",
   "nbconvert_exporter": "python",
   "pygments_lexer": "ipython3",
   "version": "3.9.7"
  }
 },
 "nbformat": 4,
 "nbformat_minor": 2
}
